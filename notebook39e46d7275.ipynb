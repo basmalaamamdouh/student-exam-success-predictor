{
 "cells": [
  {
   "cell_type": "code",
   "execution_count": 1,
   "id": "6d321142",
   "metadata": {
    "_cell_guid": "b1076dfc-b9ad-4769-8c92-a6c4dae69d19",
    "_uuid": "8f2839f25d086af736a60e9eeb907d3b93b6e0e5",
    "execution": {
     "iopub.execute_input": "2025-07-02T23:49:15.625787Z",
     "iopub.status.busy": "2025-07-02T23:49:15.625066Z",
     "iopub.status.idle": "2025-07-02T23:49:17.665134Z",
     "shell.execute_reply": "2025-07-02T23:49:17.664182Z"
    },
    "papermill": {
     "duration": 2.046365,
     "end_time": "2025-07-02T23:49:17.666909",
     "exception": false,
     "start_time": "2025-07-02T23:49:15.620544",
     "status": "completed"
    },
    "tags": []
   },
   "outputs": [
    {
     "name": "stdout",
     "output_type": "stream",
     "text": [
      "   gender race/ethnicity parental level of education         lunch  \\\n",
      "0  female        group B           bachelor's degree      standard   \n",
      "1  female        group C                some college      standard   \n",
      "2  female        group B             master's degree      standard   \n",
      "3    male        group A          associate's degree  free/reduced   \n",
      "4    male        group C                some college      standard   \n",
      "\n",
      "  test preparation course  math score  reading score  writing score  \n",
      "0                    none          72             72             74  \n",
      "1               completed          69             90             88  \n",
      "2                    none          90             95             93  \n",
      "3                    none          47             57             44  \n",
      "4                    none          76             78             75  \n",
      "<class 'pandas.core.frame.DataFrame'>\n",
      "RangeIndex: 1000 entries, 0 to 999\n",
      "Data columns (total 8 columns):\n",
      " #   Column                       Non-Null Count  Dtype \n",
      "---  ------                       --------------  ----- \n",
      " 0   gender                       1000 non-null   object\n",
      " 1   race/ethnicity               1000 non-null   object\n",
      " 2   parental level of education  1000 non-null   object\n",
      " 3   lunch                        1000 non-null   object\n",
      " 4   test preparation course      1000 non-null   object\n",
      " 5   math score                   1000 non-null   int64 \n",
      " 6   reading score                1000 non-null   int64 \n",
      " 7   writing score                1000 non-null   int64 \n",
      "dtypes: int64(3), object(5)\n",
      "memory usage: 62.6+ KB\n",
      "None\n"
     ]
    }
   ],
   "source": [
    "# This Python 3 environment comes with many helpful analytics libraries installed\n",
    "# It is defined by the kaggle/python Docker image: https://github.com/kaggle/docker-python\n",
    "# For example, here's several helpful packages to load\n",
    "\n",
    "import numpy as np # linear algebra\n",
    "import pandas as pd # data processing, CSV file I/O (e.g. pd.read_csv)\n",
    "\n",
    "# Input data files are available in the read-only \"../input/\" directory\n",
    "# For example, running this (by clicking run or pressing Shift+Enter) will list all files under the input directory\n",
    "\n",
    "df = pd.read_csv (\"//kaggle/input/students-performance-in-exams/StudentsPerformance.csv\")\n",
    "print (df.head())\n",
    "print(df.info())\n",
    "# You can write up to 20GB to the current directory (/kaggle/working/) that gets preserved as output when you create a version using \"Save & Run All\" \n",
    "# You can also write temporary files to /kaggle/temp/, but they won't be saved outside of the current session"
   ]
  },
  {
   "cell_type": "code",
   "execution_count": 2,
   "id": "88586821",
   "metadata": {
    "execution": {
     "iopub.execute_input": "2025-07-02T23:49:17.674783Z",
     "iopub.status.busy": "2025-07-02T23:49:17.674126Z",
     "iopub.status.idle": "2025-07-02T23:49:17.684187Z",
     "shell.execute_reply": "2025-07-02T23:49:17.683165Z"
    },
    "papermill": {
     "duration": 0.015848,
     "end_time": "2025-07-02T23:49:17.686172",
     "exception": false,
     "start_time": "2025-07-02T23:49:17.670324",
     "status": "completed"
    },
    "tags": []
   },
   "outputs": [
    {
     "name": "stdout",
     "output_type": "stream",
     "text": [
      "pass\n",
      "1    812\n",
      "0    188\n",
      "Name: count, dtype: int64\n"
     ]
    }
   ],
   "source": [
    "df['pass'] = ((df['math score'] >= 50) &\n",
    "              (df['reading score'] >= 50) &\n",
    "              (df['writing score'] >= 50)).astype(int)\n",
    "print(df['pass'].value_counts())"
   ]
  },
  {
   "cell_type": "code",
   "execution_count": 3,
   "id": "c5685f5f",
   "metadata": {
    "execution": {
     "iopub.execute_input": "2025-07-02T23:49:17.694727Z",
     "iopub.status.busy": "2025-07-02T23:49:17.694280Z",
     "iopub.status.idle": "2025-07-02T23:49:17.712804Z",
     "shell.execute_reply": "2025-07-02T23:49:17.712162Z"
    },
    "papermill": {
     "duration": 0.024637,
     "end_time": "2025-07-02T23:49:17.714211",
     "exception": false,
     "start_time": "2025-07-02T23:49:17.689574",
     "status": "completed"
    },
    "tags": []
   },
   "outputs": [],
   "source": [
    "df = df.drop(['math score', 'reading score', 'writing score'], axis=1)\n",
    "df_encoded = pd.get_dummies(df, drop_first=True)"
   ]
  },
  {
   "cell_type": "code",
   "execution_count": 4,
   "id": "c148e7b2",
   "metadata": {
    "execution": {
     "iopub.execute_input": "2025-07-02T23:49:17.724107Z",
     "iopub.status.busy": "2025-07-02T23:49:17.723743Z",
     "iopub.status.idle": "2025-07-02T23:49:17.729874Z",
     "shell.execute_reply": "2025-07-02T23:49:17.728532Z"
    },
    "papermill": {
     "duration": 0.013203,
     "end_time": "2025-07-02T23:49:17.731602",
     "exception": false,
     "start_time": "2025-07-02T23:49:17.718399",
     "status": "completed"
    },
    "tags": []
   },
   "outputs": [
    {
     "name": "stdout",
     "output_type": "stream",
     "text": [
      "Index(['pass', 'gender_male', 'race/ethnicity_group B',\n",
      "       'race/ethnicity_group C', 'race/ethnicity_group D',\n",
      "       'race/ethnicity_group E',\n",
      "       'parental level of education_bachelor's degree',\n",
      "       'parental level of education_high school',\n",
      "       'parental level of education_master's degree',\n",
      "       'parental level of education_some college',\n",
      "       'parental level of education_some high school', 'lunch_standard',\n",
      "       'test preparation course_none'],\n",
      "      dtype='object')\n"
     ]
    }
   ],
   "source": [
    "print(df_encoded.columns)\n"
   ]
  },
  {
   "cell_type": "code",
   "execution_count": 5,
   "id": "bd082b6b",
   "metadata": {
    "execution": {
     "iopub.execute_input": "2025-07-02T23:49:17.743564Z",
     "iopub.status.busy": "2025-07-02T23:49:17.741684Z",
     "iopub.status.idle": "2025-07-02T23:49:17.751536Z",
     "shell.execute_reply": "2025-07-02T23:49:17.750331Z"
    },
    "papermill": {
     "duration": 0.016784,
     "end_time": "2025-07-02T23:49:17.753383",
     "exception": false,
     "start_time": "2025-07-02T23:49:17.736599",
     "status": "completed"
    },
    "tags": []
   },
   "outputs": [],
   "source": [
    "X = df_encoded.drop('pass', axis=1)\n",
    "y = df_encoded['pass']\n"
   ]
  },
  {
   "cell_type": "code",
   "execution_count": 6,
   "id": "47ab95aa",
   "metadata": {
    "execution": {
     "iopub.execute_input": "2025-07-02T23:49:17.760819Z",
     "iopub.status.busy": "2025-07-02T23:49:17.760561Z",
     "iopub.status.idle": "2025-07-02T23:49:19.633470Z",
     "shell.execute_reply": "2025-07-02T23:49:19.632555Z"
    },
    "papermill": {
     "duration": 1.878837,
     "end_time": "2025-07-02T23:49:19.635410",
     "exception": false,
     "start_time": "2025-07-02T23:49:17.756573",
     "status": "completed"
    },
    "tags": []
   },
   "outputs": [],
   "source": [
    "from sklearn.model_selection import train_test_split\n",
    "\n",
    "\n",
    "X_train, X_test, y_train, y_test = train_test_split(X, y, test_size=0.2, random_state=42)\n"
   ]
  },
  {
   "cell_type": "code",
   "execution_count": 7,
   "id": "cf39a567",
   "metadata": {
    "execution": {
     "iopub.execute_input": "2025-07-02T23:49:19.643760Z",
     "iopub.status.busy": "2025-07-02T23:49:19.642788Z",
     "iopub.status.idle": "2025-07-02T23:49:19.881667Z",
     "shell.execute_reply": "2025-07-02T23:49:19.880736Z"
    },
    "papermill": {
     "duration": 0.244697,
     "end_time": "2025-07-02T23:49:19.883577",
     "exception": false,
     "start_time": "2025-07-02T23:49:19.638880",
     "status": "completed"
    },
    "tags": []
   },
   "outputs": [
    {
     "data": {
      "text/html": [
       "<style>#sk-container-id-1 {color: black;background-color: white;}#sk-container-id-1 pre{padding: 0;}#sk-container-id-1 div.sk-toggleable {background-color: white;}#sk-container-id-1 label.sk-toggleable__label {cursor: pointer;display: block;width: 100%;margin-bottom: 0;padding: 0.3em;box-sizing: border-box;text-align: center;}#sk-container-id-1 label.sk-toggleable__label-arrow:before {content: \"▸\";float: left;margin-right: 0.25em;color: #696969;}#sk-container-id-1 label.sk-toggleable__label-arrow:hover:before {color: black;}#sk-container-id-1 div.sk-estimator:hover label.sk-toggleable__label-arrow:before {color: black;}#sk-container-id-1 div.sk-toggleable__content {max-height: 0;max-width: 0;overflow: hidden;text-align: left;background-color: #f0f8ff;}#sk-container-id-1 div.sk-toggleable__content pre {margin: 0.2em;color: black;border-radius: 0.25em;background-color: #f0f8ff;}#sk-container-id-1 input.sk-toggleable__control:checked~div.sk-toggleable__content {max-height: 200px;max-width: 100%;overflow: auto;}#sk-container-id-1 input.sk-toggleable__control:checked~label.sk-toggleable__label-arrow:before {content: \"▾\";}#sk-container-id-1 div.sk-estimator input.sk-toggleable__control:checked~label.sk-toggleable__label {background-color: #d4ebff;}#sk-container-id-1 div.sk-label input.sk-toggleable__control:checked~label.sk-toggleable__label {background-color: #d4ebff;}#sk-container-id-1 input.sk-hidden--visually {border: 0;clip: rect(1px 1px 1px 1px);clip: rect(1px, 1px, 1px, 1px);height: 1px;margin: -1px;overflow: hidden;padding: 0;position: absolute;width: 1px;}#sk-container-id-1 div.sk-estimator {font-family: monospace;background-color: #f0f8ff;border: 1px dotted black;border-radius: 0.25em;box-sizing: border-box;margin-bottom: 0.5em;}#sk-container-id-1 div.sk-estimator:hover {background-color: #d4ebff;}#sk-container-id-1 div.sk-parallel-item::after {content: \"\";width: 100%;border-bottom: 1px solid gray;flex-grow: 1;}#sk-container-id-1 div.sk-label:hover label.sk-toggleable__label {background-color: #d4ebff;}#sk-container-id-1 div.sk-serial::before {content: \"\";position: absolute;border-left: 1px solid gray;box-sizing: border-box;top: 0;bottom: 0;left: 50%;z-index: 0;}#sk-container-id-1 div.sk-serial {display: flex;flex-direction: column;align-items: center;background-color: white;padding-right: 0.2em;padding-left: 0.2em;position: relative;}#sk-container-id-1 div.sk-item {position: relative;z-index: 1;}#sk-container-id-1 div.sk-parallel {display: flex;align-items: stretch;justify-content: center;background-color: white;position: relative;}#sk-container-id-1 div.sk-item::before, #sk-container-id-1 div.sk-parallel-item::before {content: \"\";position: absolute;border-left: 1px solid gray;box-sizing: border-box;top: 0;bottom: 0;left: 50%;z-index: -1;}#sk-container-id-1 div.sk-parallel-item {display: flex;flex-direction: column;z-index: 1;position: relative;background-color: white;}#sk-container-id-1 div.sk-parallel-item:first-child::after {align-self: flex-end;width: 50%;}#sk-container-id-1 div.sk-parallel-item:last-child::after {align-self: flex-start;width: 50%;}#sk-container-id-1 div.sk-parallel-item:only-child::after {width: 0;}#sk-container-id-1 div.sk-dashed-wrapped {border: 1px dashed gray;margin: 0 0.4em 0.5em 0.4em;box-sizing: border-box;padding-bottom: 0.4em;background-color: white;}#sk-container-id-1 div.sk-label label {font-family: monospace;font-weight: bold;display: inline-block;line-height: 1.2em;}#sk-container-id-1 div.sk-label-container {text-align: center;}#sk-container-id-1 div.sk-container {/* jupyter's `normalize.less` sets `[hidden] { display: none; }` but bootstrap.min.css set `[hidden] { display: none !important; }` so we also need the `!important` here to be able to override the default hidden behavior on the sphinx rendered scikit-learn.org. See: https://github.com/scikit-learn/scikit-learn/issues/21755 */display: inline-block !important;position: relative;}#sk-container-id-1 div.sk-text-repr-fallback {display: none;}</style><div id=\"sk-container-id-1\" class=\"sk-top-container\"><div class=\"sk-text-repr-fallback\"><pre>LogisticRegression()</pre><b>In a Jupyter environment, please rerun this cell to show the HTML representation or trust the notebook. <br />On GitHub, the HTML representation is unable to render, please try loading this page with nbviewer.org.</b></div><div class=\"sk-container\" hidden><div class=\"sk-item\"><div class=\"sk-estimator sk-toggleable\"><input class=\"sk-toggleable__control sk-hidden--visually\" id=\"sk-estimator-id-1\" type=\"checkbox\" checked><label for=\"sk-estimator-id-1\" class=\"sk-toggleable__label sk-toggleable__label-arrow\">LogisticRegression</label><div class=\"sk-toggleable__content\"><pre>LogisticRegression()</pre></div></div></div></div></div>"
      ],
      "text/plain": [
       "LogisticRegression()"
      ]
     },
     "execution_count": 7,
     "metadata": {},
     "output_type": "execute_result"
    }
   ],
   "source": [
    "from sklearn.linear_model import LogisticRegression\n",
    "model = LogisticRegression()\n",
    "model.fit(X_train , y_train)"
   ]
  },
  {
   "cell_type": "code",
   "execution_count": 8,
   "id": "6316fe48",
   "metadata": {
    "execution": {
     "iopub.execute_input": "2025-07-02T23:49:19.896460Z",
     "iopub.status.busy": "2025-07-02T23:49:19.896084Z",
     "iopub.status.idle": "2025-07-02T23:49:19.920423Z",
     "shell.execute_reply": "2025-07-02T23:49:19.919585Z"
    },
    "papermill": {
     "duration": 0.032556,
     "end_time": "2025-07-02T23:49:19.922387",
     "exception": false,
     "start_time": "2025-07-02T23:49:19.889831",
     "status": "completed"
    },
    "tags": []
   },
   "outputs": [
    {
     "name": "stdout",
     "output_type": "stream",
     "text": [
      "[[  1  43]\n",
      " [  3 153]]\n",
      "              precision    recall  f1-score   support\n",
      "\n",
      "           0       0.25      0.02      0.04        44\n",
      "           1       0.78      0.98      0.87       156\n",
      "\n",
      "    accuracy                           0.77       200\n",
      "   macro avg       0.52      0.50      0.46       200\n",
      "weighted avg       0.66      0.77      0.69       200\n",
      "\n"
     ]
    }
   ],
   "source": [
    "from sklearn.metrics import classification_report, confusion_matrix\n",
    "\n",
    "\n",
    "y_pred = model.predict(X_test)\n",
    "\n",
    "\n",
    "print(confusion_matrix(y_test, y_pred))\n",
    "\n",
    "\n",
    "print(classification_report(y_test, y_pred))\n"
   ]
  },
  {
   "cell_type": "code",
   "execution_count": 9,
   "id": "591fb799",
   "metadata": {
    "execution": {
     "iopub.execute_input": "2025-07-02T23:49:19.934175Z",
     "iopub.status.busy": "2025-07-02T23:49:19.933733Z",
     "iopub.status.idle": "2025-07-02T23:49:19.939667Z",
     "shell.execute_reply": "2025-07-02T23:49:19.938569Z"
    },
    "papermill": {
     "duration": 0.01359,
     "end_time": "2025-07-02T23:49:19.941369",
     "exception": false,
     "start_time": "2025-07-02T23:49:19.927779",
     "status": "completed"
    },
    "tags": []
   },
   "outputs": [],
   "source": [
    "model = LogisticRegression(class_weight='balanced', max_iter=1000)\n"
   ]
  },
  {
   "cell_type": "code",
   "execution_count": 10,
   "id": "684c10a8",
   "metadata": {
    "execution": {
     "iopub.execute_input": "2025-07-02T23:49:19.954591Z",
     "iopub.status.busy": "2025-07-02T23:49:19.954071Z",
     "iopub.status.idle": "2025-07-02T23:49:20.081274Z",
     "shell.execute_reply": "2025-07-02T23:49:20.080445Z"
    },
    "papermill": {
     "duration": 0.136543,
     "end_time": "2025-07-02T23:49:20.083563",
     "exception": false,
     "start_time": "2025-07-02T23:49:19.947020",
     "status": "completed"
    },
    "tags": []
   },
   "outputs": [
    {
     "name": "stdout",
     "output_type": "stream",
     "text": [
      "[[ 26  18]\n",
      " [ 53 103]]\n",
      "              precision    recall  f1-score   support\n",
      "\n",
      "           0       0.33      0.59      0.42        44\n",
      "           1       0.85      0.66      0.74       156\n",
      "\n",
      "    accuracy                           0.65       200\n",
      "   macro avg       0.59      0.63      0.58       200\n",
      "weighted avg       0.74      0.65      0.67       200\n",
      "\n"
     ]
    }
   ],
   "source": [
    "model.fit(X_train, y_train)\n",
    "y_pred = model.predict(X_test)\n",
    "\n",
    "from sklearn.metrics import classification_report, confusion_matrix\n",
    "print(confusion_matrix(y_test, y_pred))\n",
    "print(classification_report(y_test, y_pred))\n"
   ]
  },
  {
   "cell_type": "code",
   "execution_count": 11,
   "id": "fddac894",
   "metadata": {
    "execution": {
     "iopub.execute_input": "2025-07-02T23:49:20.096683Z",
     "iopub.status.busy": "2025-07-02T23:49:20.095845Z",
     "iopub.status.idle": "2025-07-02T23:49:20.324720Z",
     "shell.execute_reply": "2025-07-02T23:49:20.323608Z"
    },
    "papermill": {
     "duration": 0.237334,
     "end_time": "2025-07-02T23:49:20.326101",
     "exception": false,
     "start_time": "2025-07-02T23:49:20.088767",
     "status": "completed"
    },
    "tags": []
   },
   "outputs": [
    {
     "name": "stdout",
     "output_type": "stream",
     "text": [
      "[[20 24]\n",
      " [71 85]]\n",
      "              precision    recall  f1-score   support\n",
      "\n",
      "           0       0.22      0.45      0.30        44\n",
      "           1       0.78      0.54      0.64       156\n",
      "\n",
      "    accuracy                           0.53       200\n",
      "   macro avg       0.50      0.50      0.47       200\n",
      "weighted avg       0.66      0.52      0.57       200\n",
      "\n"
     ]
    }
   ],
   "source": [
    "from sklearn.tree import DecisionTreeClassifier\n",
    "tree_model = DecisionTreeClassifier(class_weight='balanced', random_state=42)\n",
    "tree_model.fit(X_train, y_train)\n",
    "from sklearn.metrics import classification_report, confusion_matrix\n",
    "\n",
    "y_tree_pred = tree_model.predict(X_test)\n",
    "\n",
    "print(confusion_matrix(y_test, y_tree_pred))\n",
    "print(classification_report(y_test, y_tree_pred))\n"
   ]
  },
  {
   "cell_type": "code",
   "execution_count": 12,
   "id": "20b810ab",
   "metadata": {
    "execution": {
     "iopub.execute_input": "2025-07-02T23:49:20.334663Z",
     "iopub.status.busy": "2025-07-02T23:49:20.333951Z",
     "iopub.status.idle": "2025-07-02T23:49:20.675465Z",
     "shell.execute_reply": "2025-07-02T23:49:20.674446Z"
    },
    "papermill": {
     "duration": 0.347435,
     "end_time": "2025-07-02T23:49:20.677049",
     "exception": false,
     "start_time": "2025-07-02T23:49:20.329614",
     "status": "completed"
    },
    "tags": []
   },
   "outputs": [
    {
     "name": "stdout",
     "output_type": "stream",
     "text": [
      "[[ 11  33]\n",
      " [ 45 111]]\n",
      "              precision    recall  f1-score   support\n",
      "\n",
      "           0       0.20      0.25      0.22        44\n",
      "           1       0.77      0.71      0.74       156\n",
      "\n",
      "    accuracy                           0.61       200\n",
      "   macro avg       0.48      0.48      0.48       200\n",
      "weighted avg       0.64      0.61      0.63       200\n",
      "\n"
     ]
    }
   ],
   "source": [
    "from sklearn.ensemble import RandomForestClassifier\n",
    "rf_model = RandomForestClassifier(class_weight='balanced', random_state=42)\n",
    "rf_model.fit(X_train, y_train)\n",
    "from sklearn.metrics import confusion_matrix, classification_report\n",
    "\n",
    "y_rf_pred = rf_model.predict(X_test)\n",
    "\n",
    "print(confusion_matrix(y_test, y_rf_pred))\n",
    "print(classification_report(y_test, y_rf_pred))\n"
   ]
  }
 ],
 "metadata": {
  "kaggle": {
   "accelerator": "none",
   "dataSources": [
    {
     "datasetId": 74977,
     "sourceId": 169835,
     "sourceType": "datasetVersion"
    }
   ],
   "dockerImageVersionId": 31040,
   "isGpuEnabled": false,
   "isInternetEnabled": false,
   "language": "python",
   "sourceType": "notebook"
  },
  "kernelspec": {
   "display_name": "Python 3",
   "language": "python",
   "name": "python3"
  },
  "language_info": {
   "codemirror_mode": {
    "name": "ipython",
    "version": 3
   },
   "file_extension": ".py",
   "mimetype": "text/x-python",
   "name": "python",
   "nbconvert_exporter": "python",
   "pygments_lexer": "ipython3",
   "version": "3.11.11"
  },
  "papermill": {
   "default_parameters": {},
   "duration": 10.905628,
   "end_time": "2025-07-02T23:49:21.401753",
   "environment_variables": {},
   "exception": null,
   "input_path": "__notebook__.ipynb",
   "output_path": "__notebook__.ipynb",
   "parameters": {},
   "start_time": "2025-07-02T23:49:10.496125",
   "version": "2.6.0"
  }
 },
 "nbformat": 4,
 "nbformat_minor": 5
}
